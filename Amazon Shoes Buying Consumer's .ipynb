{
 "cells": [
  {
   "cell_type": "code",
   "execution_count": null,
   "id": "53f27286",
   "metadata": {},
   "outputs": [],
   "source": [
    "import requests\n",
    "from bs4 import BeautifulSoup\n",
    "import csv\n"
   ]
  },
  {
   "cell_type": "code",
   "execution_count": null,
   "id": "9a1e9ab4",
   "metadata": {},
   "outputs": [],
   "source": [
    "\n",
    "url = \"https://www.amazon.in/s?k=men+shoes+sports&i=fashion&crid=1BZE7F4F1ZBSD&sprefix=men+shoes+sports%2Cfashion%2C319&ref=nb_sb_noss_2\"\n",
    "response = requests.get(url)\n",
    "soup = BeautifulSoup(response.content, 'html.parser')\n"
   ]
  },
  {
   "cell_type": "code",
   "execution_count": null,
   "id": "2e43efec",
   "metadata": {},
   "outputs": [],
   "source": [
    "# Step 1: Extract\n",
    "url = \"https://www.amazon.in/s?k=men+shoes+sports&i=fashion&crid=1BZE7F4F1ZBSD&sprefix=men+shoes+sports%2Cfashion%2C319&ref=nb_sb_noss_2\"\n",
    "response = requests.get(url)\n",
    "soup = BeautifulSoup(response.content, 'html.parser')\n",
    "\n",
    "\n",
    "\n",
    "# Step 2: Transform\n",
    "products = soup.find_all('div', class_='s-result-item')\n",
    "shoes = []\n",
    "for product in products:\n",
    "    title_element = product.find('span', class_='a-text-normal')\n",
    "    if title_element:\n",
    "        title = title_element.text.strip()\n",
    "        price_element = product.find('span', class_='a-offscreen')\n",
    "        if price_element:\n",
    "            price = price_element.text.strip()\n",
    "            shoes.append({'Title': title, 'Price': price})\n",
    "            \n",
    "            \n",
    "\n",
    "# Step 3: Load\n",
    "csv_filename = 'amazon_shoes.csv'\n",
    "with open(csv_filename, 'w', newline='', encoding='utf-8') as csvfile:\n",
    "    fieldnames = ['Title', 'Price']\n",
    "    writer = csv.DictWriter(csvfile, fieldnames=fieldnames)\n",
    "    writer.writeheader()\n",
    "    for shoe in shoes:\n",
    "        writer.writerow(shoe)\n",
    "\n",
    "print(\"Data extracted, transformed, and loaded to\",'amazon_shoes.csv')\n"
   ]
  },
  {
   "cell_type": "code",
   "execution_count": null,
   "id": "9791e3bf",
   "metadata": {},
   "outputs": [],
   "source": [
    "import pandas as pd\n",
    "\n",
    "csv_filename = 'amazon_shoes.csv'\n",
    "\n",
    "\n",
    "df = pd.read_csv( 'amazon_shoes.csv')\n",
    "\n"
   ]
  },
  {
   "cell_type": "code",
   "execution_count": null,
   "id": "bbebddf5",
   "metadata": {},
   "outputs": [],
   "source": [
    "df"
   ]
  },
  {
   "cell_type": "code",
   "execution_count": null,
   "id": "cc401bac",
   "metadata": {},
   "outputs": [],
   "source": [
    " for product in products:\n",
    "    title_element = product.find('span', class_='a-text-normal')\n",
    "    if title_element:\n",
    "        title = title_element.text.strip()\n",
    "        price_element = product.find('span', class_='a-offscreen')\n",
    "        if price_element:\n",
    "            price = price_element.text.strip()\n",
    "            # Extract brand name\n",
    "            brand_element = product.find('span', class_='a-size-base-plus a-color-base a-text-normal')\n",
    "            brand = brand_element.text.strip() if brand_element else ''\n",
    "            # Extract customer rating\n",
    "            rating_element = product.find('span', class_='a-icon-alt')\n",
    "            rating = rating_element.text.strip() if rating_element else ''\n",
    "            shoes.append({'Title': title, 'Price': price, 'Brand': brand, 'Rating': rating})\n"
   ]
  },
  {
   "cell_type": "code",
   "execution_count": null,
   "id": "1d0d0fd2",
   "metadata": {},
   "outputs": [],
   "source": [
    "csv_filename = 'amazon_shoes.csv'\n",
    "with open(csv_filename, 'w', newline='', encoding='utf-8') as csvfile:\n",
    "    fieldnames = ['Title', 'Price', 'Brand', 'Rating']  # Update fieldnames\n",
    "    writer = csv.DictWriter(csvfile, fieldnames=fieldnames)\n",
    "    writer.writeheader()\n",
    "    for shoe in shoes:\n",
    "        writer.writerow(shoe)\n",
    "\n",
    "print(\"Data extracted, transformed, and loaded to\", 'amazon_shoes.csv')\n"
   ]
  },
  {
   "cell_type": "code",
   "execution_count": null,
   "id": "c14dcb98",
   "metadata": {},
   "outputs": [],
   "source": [
    "import pandas as pd\n",
    "\n",
    "csv_filename = 'amazon_shoes.csv'\n",
    "df = pd.read_csv('amazon_shoes.csv')\n",
    "\n",
    "print(df.head())  # Print the first few rows of the DataFrame\n"
   ]
  },
  {
   "cell_type": "code",
   "execution_count": null,
   "id": "3613e69d",
   "metadata": {},
   "outputs": [],
   "source": [
    "df.isnull().sum()"
   ]
  },
  {
   "cell_type": "code",
   "execution_count": null,
   "id": "f1177371",
   "metadata": {},
   "outputs": [],
   "source": [
    "import requests\n",
    "from bs4 import BeautifulSoup\n",
    "import csv\n",
    "\n",
    "# Step 1: Extract\n",
    "url = \"https://www.amazon.in/s?k=men+shoes+sports&i=fashion&crid=1BZE7F4F1ZBSD&sprefix=men+shoes+sports%2Cfashion%2C319&ref=nb_sb_noss_2\"\n",
    "response = requests.get(url)\n",
    "soup = BeautifulSoup(response.content, 'html.parser')\n",
    "\n",
    "# Step 2: Transform\n",
    "products = soup.find_all('div', class_='s-result-item')\n",
    "shoes = []\n",
    "\n",
    "for product in products:\n",
    "    title_element = product.find('span', class_='a-text-normal')\n",
    "    if title_element:\n",
    "        title = title_element.text.strip()\n",
    "        price_element = product.find('span', class_='a-offscreen')\n",
    "        if price_element:\n",
    "            price = price_element.text.strip()\n",
    "            # Extracting additional information\n",
    "            brand_element = product.find('span', class_='a-size-base-plus')\n",
    "            brand = brand_element.text.strip() if brand_element else 'N/A'\n",
    "            customer_rating_element = product.find('span', class_='a-icon-alt')\n",
    "            customer_rating = customer_rating_element.text.strip() if customer_rating_element else 'N/A'\n",
    "            discount_element = product.find('span', class_='a-text-price')\n",
    "            discount = discount_element.text.strip() if discount_element else 'N/A'\n",
    "            fashion_features_element = product.find('span', class_='a-size-base-plus a-color-base')\n",
    "            fashion_features = fashion_features_element.text.strip() if fashion_features_element else 'N/A'\n",
    "            \n",
    "            shoes.append({\n",
    "                'Title': title,\n",
    "                'Price': price,\n",
    "                'Brand': brand,\n",
    "                'Customer Rating': customer_rating,\n",
    "                'Discount': discount,\n",
    "                'Fashion Features': fashion_features\n",
    "            })\n",
    "\n",
    "# Step 3: Load\n",
    "csv_filename = 'amazon_shoes.csv'\n",
    "with open(csv_filename, 'w', newline='', encoding='utf-8') as csvfile:\n",
    "    fieldnames = ['Title', 'Price', 'Brand', 'Customer Rating', 'Discount', 'Fashion Features']\n",
    "    writer = csv.DictWriter(csvfile, fieldnames=fieldnames)\n",
    "    writer.writeheader()\n",
    "    for shoe in shoes:\n",
    "        writer.writerow(shoe)\n",
    "\n",
    "print(\"Data extracted, transformed, and loaded to\", csv_filename)\n"
   ]
  },
  {
   "cell_type": "code",
   "execution_count": null,
   "id": "be7ca177",
   "metadata": {},
   "outputs": [],
   "source": [
    "df"
   ]
  },
  {
   "cell_type": "code",
   "execution_count": null,
   "id": "4825dd7c",
   "metadata": {},
   "outputs": [],
   "source": [
    "df.isnull().sum()"
   ]
  },
  {
   "cell_type": "code",
   "execution_count": null,
   "id": "d1b3d174",
   "metadata": {},
   "outputs": [],
   "source": [
    "df['Brand'] = df['Brand'].fillna(\"Nike\")\n",
    "df['Brand'] = df['Brand'].fillna(\"Puma\")\n",
    "df['Brand'] = df['Brand'].fillna(\"Asian\")\n",
    "df['Brand'] = df['Brand'].fillna(\"Campus\")\n",
    "df['Brand'] = df['Brand'].fillna(\"RedTap\")\n",
    "df['Brand'] = df['Brand'].fillna(\"Mochi\")\n",
    "\n",
    "\n",
    "\n",
    "\n"
   ]
  },
  {
   "cell_type": "code",
   "execution_count": null,
   "id": "c03cf094",
   "metadata": {},
   "outputs": [],
   "source": [
    "df['Rating'] = df['Rating'].fillna(\"4.1 out of 5 stars\")\n",
    "df['Rating'] = df['Rating'].fillna(\"3.2 out of 4 stars\")\n"
   ]
  },
  {
   "cell_type": "code",
   "execution_count": null,
   "id": "82383138",
   "metadata": {},
   "outputs": [],
   "source": [
    "df.isnull().sum()"
   ]
  },
  {
   "cell_type": "code",
   "execution_count": null,
   "id": "6fc04ce4",
   "metadata": {},
   "outputs": [],
   "source": [
    "df"
   ]
  },
  {
   "cell_type": "code",
   "execution_count": null,
   "id": "84a855e1",
   "metadata": {},
   "outputs": [],
   "source": [
    "import re \n",
    "\n",
    "def remove_tags(raw_text):\n",
    "    cleaned_text = re.sub(re.compile('<. ₹?>'), '' , raw_text) \n",
    "    return cleaned_text "
   ]
  },
  {
   "cell_type": "code",
   "execution_count": null,
   "id": "f2cb3593",
   "metadata": {},
   "outputs": [],
   "source": [
    "df['Price'] = df['Price'].apply(remove_tags) "
   ]
  },
  {
   "cell_type": "code",
   "execution_count": null,
   "id": "69769f51",
   "metadata": {},
   "outputs": [],
   "source": [
    "df"
   ]
  },
  {
   "cell_type": "code",
   "execution_count": null,
   "id": "bb52e64a",
   "metadata": {},
   "outputs": [],
   "source": [
    "import nltk\n",
    "nltk.download('punkt')\n",
    "import gensim \n",
    "import os "
   ]
  },
  {
   "cell_type": "code",
   "execution_count": null,
   "id": "b794e524",
   "metadata": {},
   "outputs": [],
   "source": [
    "from nltk import sent_tokenize \n",
    "from gensim.utils import simple_preprocess \n",
    "\n",
    "story = []\n",
    "for filename in os.listdir('C:\\\\Users\\\\Govind\\\\Desktop\\\\New folder'):\n",
    "    f = open(os.path.join(\"C:\\\\Users\\\\Govind\\\\Desktop\\\\New folder\" , filename)) \n",
    "    corpus = f.read() \n",
    "    raw_sent = sent_tokenize(corpus) \n",
    "    for sent in raw_sent :\n",
    "        story.append(simple_preprocess(sent)) \n",
    "        \n",
    " \n",
    "\n"
   ]
  },
  {
   "cell_type": "code",
   "execution_count": null,
   "id": "72de056a",
   "metadata": {},
   "outputs": [],
   "source": [
    "model = gensim.models.Word2Vec(\n",
    "    window = 10 ,\n",
    "    min_count = 2\n",
    ")"
   ]
  },
  {
   "cell_type": "code",
   "execution_count": null,
   "id": "ab13bb36",
   "metadata": {},
   "outputs": [],
   "source": [
    "model.wv.get_normed_vectors().shape"
   ]
  },
  {
   "cell_type": "code",
   "execution_count": null,
   "id": "be97477d",
   "metadata": {},
   "outputs": [],
   "source": [
    "from gensim.models import Word2Vec\n",
    "\n",
    "# Tokenized data (replace this with your tokenized data)\n",
    "tokenized_data = [['unisex', 'adult', 'trigger', 'running', 'shoe'],\n",
    "                  ['mens', 'wonder', '13', 'sports', 'running', 'shoes'],\n",
    "                  # ... more tokenized sentences\n",
    "                 ]\n",
    "\n",
    "# Create and train Word2Vec model\n",
    "model = Word2Vec(sentences=tokenized_data, vector_size=100, window=5, min_count=1, sg=0)\n",
    "\n",
    "# Example: Get vector representation of the word \"shoe\" (lowercase)\n",
    "vector = model.wv['shoe']\n",
    "\n",
    "# Find similar words to \"shoe\"\n",
    "similar_words = model.wv.most_similar('shoe', topn=5)\n",
    "\n",
    "print(\"Vector:\", vector)\n",
    "print(\"Similar words:\", similar_words)\n"
   ]
  },
  {
   "cell_type": "code",
   "execution_count": null,
   "id": "c97aeb42",
   "metadata": {},
   "outputs": [],
   "source": [
    "from nltk.corpus import stopwords\n",
    "from nltk.tokenize import word_tokenize\n",
    "\n",
    "stop_words = set(stopwords.words('english'))\n",
    "\n",
    "def preprocess_text(text):\n",
    "    words = word_tokenize(text.lower())\n",
    "    words = [word for word in words if word.isalnum() and word not in stop_words]\n",
    "    return words\n"
   ]
  },
  {
   "cell_type": "code",
   "execution_count": null,
   "id": "e8f81e19",
   "metadata": {},
   "outputs": [],
   "source": [
    "def sentence_embedding(sentence):\n",
    "    embedding = [model.wv[word] for word in sentence if word in model.wv]\n",
    "    if not embedding:\n",
    "        return None\n",
    "    return sum(embedding) / len(embedding)\n"
   ]
  },
  {
   "cell_type": "code",
   "execution_count": null,
   "id": "79a6656a",
   "metadata": {},
   "outputs": [],
   "source": [
    "# Ensure that the length of X matches the length of y\n",
    "assert len(X) == len(y), \"Number of samples in X and y should match\"\n",
    "\n",
    "# Split the data into training and testing sets\n",
    "X_train, X_test, y_train, y_test = train_test_split(X, y, test_size=0.2, random_state=42)\n",
    "\n",
    "# Train your machine learning model\n",
    "model = LogisticRegression()\n",
    "model.fit(X_train, y_train)\n"
   ]
  },
  {
   "cell_type": "code",
   "execution_count": null,
   "id": "70373ea1",
   "metadata": {},
   "outputs": [],
   "source": [
    "from sklearn.metrics import accuracy_score, classification_report\n",
    "\n",
    "y_pred = model.predict(X_test)\n",
    "accuracy = accuracy_score(y_test, y_pred)\n",
    "print(\"Accuracy:\", accuracy)\n",
    "print(\"Classification Report:\\n\", classification_report(y_test, y_pred))\n",
    "\n"
   ]
  },
  {
   "cell_type": "code",
   "execution_count": null,
   "id": "b841e7e8",
   "metadata": {},
   "outputs": [],
   "source": [
    "print(\"Number of samples in X:\", len(X))\n",
    "print(\"Number of samples in y:\", len(y))\n"
   ]
  },
  {
   "cell_type": "code",
   "execution_count": null,
   "id": "2d71cefc",
   "metadata": {},
   "outputs": [],
   "source": [
    "for i in range(5):  \n",
    "    print(\"X:\", X[i])\n",
    "    print(\"y:\", y[i])\n",
    "\n",
    "\n"
   ]
  },
  {
   "cell_type": "code",
   "execution_count": null,
   "id": "6780ed18",
   "metadata": {},
   "outputs": [],
   "source": [
    "\n"
   ]
  },
  {
   "cell_type": "code",
   "execution_count": null,
   "id": "3f630f09",
   "metadata": {},
   "outputs": [],
   "source": [
    "\n"
   ]
  }
 ],
 "metadata": {
  "kernelspec": {
   "display_name": "Python 3 (ipykernel)",
   "language": "python",
   "name": "python3"
  },
  "language_info": {
   "codemirror_mode": {
    "name": "ipython",
    "version": 3
   },
   "file_extension": ".py",
   "mimetype": "text/x-python",
   "name": "python",
   "nbconvert_exporter": "python",
   "pygments_lexer": "ipython3",
   "version": "3.10.11"
  }
 },
 "nbformat": 4,
 "nbformat_minor": 5
}
